{
 "cells": [
  {
   "cell_type": "markdown",
   "metadata": {},
   "source": [
    "# ENTRADA Y SALIDA DE DATOS"
   ]
  },
  {
   "cell_type": "markdown",
   "metadata": {},
   "source": [
    "## 1. Entrada de Información por teclado (Input)"
   ]
  },
  {
   "cell_type": "markdown",
   "metadata": {},
   "source": [
    "En python la funcion input() nos ayudará con la tarea de capturar datos del usuario"
   ]
  },
  {
   "cell_type": "code",
   "execution_count": null,
   "metadata": {},
   "outputs": [],
   "source": [
    "# input por defecto nos devuelve datos de tipo texto\n",
    "# SHIFT + ENTER -> EJECUTAR CELDA ACTUAL Y IR A LA SIGUIENTE CELDA\n",
    "# CONTROL + ENTER -> EJECUTAR CELDA ACTUAL\n",
    "numero = input(\"Introduce un número decimal con punto: \")"
   ]
  },
  {
   "cell_type": "code",
   "execution_count": null,
   "metadata": {},
   "outputs": [],
   "source": [
    "type(numero)"
   ]
  },
  {
   "cell_type": "code",
   "execution_count": null,
   "metadata": {},
   "outputs": [],
   "source": [
    "numero = float(numero)"
   ]
  },
  {
   "cell_type": "code",
   "execution_count": null,
   "metadata": {},
   "outputs": [],
   "source": [
    "# tab -> autocompleta texto\n",
    "numero"
   ]
  },
  {
   "cell_type": "code",
   "execution_count": null,
   "metadata": {},
   "outputs": [],
   "source": [
    "\n",
    "type(numero)\n"
   ]
  },
  {
   "cell_type": "code",
   "execution_count": null,
   "metadata": {},
   "outputs": [],
   "source": [
    "# shift + tab -> documentacion de la funcion que estoy empleando\n",
    "decimal = float(input(\"Ingrese un valor numerico:  \"))\n",
    "decimal"
   ]
  },
  {
   "cell_type": "code",
   "execution_count": null,
   "metadata": {},
   "outputs": [],
   "source": [
    "# CUIDADO -> recordar que input retorna un str\n",
    "\n",
    "edad = input('ingrese su edad')\n",
    "\n",
    "edad + 2\n"
   ]
  },
  {
   "cell_type": "markdown",
   "metadata": {},
   "source": [
    "## 2. Entrada de datos por Argumentos"
   ]
  },
  {
   "cell_type": "markdown",
   "metadata": {},
   "source": [
    "Para poder enviar información a un script y manejarla, tenemos que utilizar la librería de sistema [sys](https://www.geeksforgeeks.org/how-to-use-sys-argv-in-python/). En ella encontraremos la lista argv que almacena los argumentos enviados al script."
   ]
  },
  {
   "cell_type": "code",
   "execution_count": null,
   "metadata": {},
   "outputs": [],
   "source": [
    "# Hacer en vscode\n",
    "import sys\n",
    "print(sys.argv)"
   ]
  },
  {
   "cell_type": "markdown",
   "metadata": {},
   "source": [
    "## 3. Salida de información (Output)"
   ]
  },
  {
   "cell_type": "markdown",
   "metadata": {},
   "source": [
    "La función print nos ayudará a realizar salidas de información"
   ]
  },
  {
   "cell_type": "code",
   "execution_count": null,
   "metadata": {},
   "outputs": [],
   "source": [
    "print('hola')"
   ]
  },
  {
   "cell_type": "code",
   "execution_count": null,
   "metadata": {},
   "outputs": [],
   "source": [
    "## Nota -> Agregando una variable a la cadena de impresión\n",
    "\n",
    "suma = 3 +7 # int\n",
    "\n",
    "# Opcion 1\n",
    "print(\"El valor de la suma es \"+  str(suma)) # str(suma) -> concadenacion solo sirve para strings\n",
    "\n",
    "# Opcion 2 -> Mejor opcion\n",
    "print(f\"El valor de la suma es: {suma}\") # formatea el numero a texto\n",
    "\n",
    "# opcion 3 -> Otra buena Opcion\n",
    "print(\"El valor de la suma es: {}\".format(suma))\n",
    "\n"
   ]
  },
  {
   "cell_type": "markdown",
   "metadata": {},
   "source": [
    "# EJERCICIOS"
   ]
  },
  {
   "cell_type": "markdown",
   "metadata": {},
   "source": [
    "#### 1. Realiza un programa que lea 2 números por teclado y determine los siguientes aspectos (es suficiene con mostrar True o False):\n",
    "\n",
    "- Si los dos números son iguales\n",
    "- Si los dos números son diferentes\n",
    "- Si el primero es mayor que el segundo\n",
    "- Si el segundo es mayor o igual que el primero"
   ]
  },
  {
   "cell_type": "code",
   "execution_count": null,
   "metadata": {},
   "outputs": [],
   "source": []
  },
  {
   "cell_type": "markdown",
   "metadata": {},
   "source": [
    "### 2. \n",
    "Una panadería vende barras de pan a 3.49€ cada una. El pan que no es el día tiene un descuento del 60%. Escribir un programa que comience leyendo el número de barras vendidas que no son del día. Después el programa debe mostrar el precio habitual de una barra de pan, el descuento que se le hace por no ser fresca y el coste final total."
   ]
  },
  {
   "cell_type": "code",
   "execution_count": 2,
   "metadata": {},
   "outputs": [
    {
     "name": "stdout",
     "output_type": "stream",
     "text": [
      "precio final\t: 16.752000000000002\n"
     ]
    }
   ],
   "source": [
    "precio_habitual=3.49\n",
    "descuento=0.60\n",
    "\n",
    "N=float(input(\"ingrese el numero de panes que no son del dia\"))\n",
    "\n",
    "print(\"precio final\\t:\",N*(precio_habitual*(1-descuento)))"
   ]
  },
  {
   "cell_type": "code",
   "execution_count": 3,
   "metadata": {},
   "outputs": [
    {
     "name": "stdout",
     "output_type": "stream",
     "text": [
      "\n",
      "Precio habitual de una barra de pan: 3.49€\n",
      "Descuento por no ser fresca: 60.0%\n",
      "Coste final total: 13.96€\n"
     ]
    }
   ],
   "source": [
    "\n",
    "barras_no_frescas = int(input(\"Ingrese el número de barras no frescas vendidas: \"))\n",
    "precio_habitual = 3.49\n",
    "descuento = 0.60\n",
    "coste_final = barras_no_frescas * (precio_habitual - (precio_habitual * descuento))\n",
    "print(f\"\\nPrecio habitual de una barra de pan: {precio_habitual}€\")\n",
    "print(f\"Descuento por no ser fresca: {descuento * 100}%\")\n",
    "print(f\"Coste final total: {coste_final:.2f}€\")\n"
   ]
  },
  {
   "cell_type": "markdown",
   "metadata": {},
   "source": [
    "### 3. \n",
    "Escribir un programa que pida al usuario su peso (en kg) y estatura (en metros), calcule el índice de masa corporal y lo almacene en una variable, y muestre por pantalla la frase Tu índice de masa corporal es <imc> donde <imc> es el índice de masa corporal calculado redondeado con dos decimales.\n",
    "\n",
    "\n"
   ]
  },
  {
   "cell_type": "code",
   "execution_count": null,
   "metadata": {},
   "outputs": [],
   "source": [
    "# Pedir al usuario que ingrese su peso y estatura\n",
    "peso_kg = float(input(\"Ingresa tu peso en kg: \"))\n",
    "estatura_metros = float(input(\"Ingresa tu estatura en metros: \"))\n",
    "\n",
    "# Calcular el índice de masa corporal (IMC)\n",
    "imc = peso_kg / (estatura_metros ** 2)\n",
    "\n",
    "# Redondear el IMC a dos decimales\n",
    "imc_redondeado = round(imc, 2)\n",
    "\n",
    "# Mostrar el resultado\n",
    "print(f\"Tu índice de masa corporal es {imc_redondeado}\")\n"
   ]
  },
  {
   "cell_type": "code",
   "execution_count": 7,
   "metadata": {},
   "outputs": [
    {
     "ename": "ValueError",
     "evalue": "could not convert string to float: 'ingrese su peso'",
     "output_type": "error",
     "traceback": [
      "\u001b[0;31m---------------------------------------------------------------------------\u001b[0m",
      "\u001b[0;31mValueError\u001b[0m                                Traceback (most recent call last)",
      "\u001b[1;32m/workspaces/ProgramacionPython202311/Modulo1/4. Entrada y Salida de Datos.ipynb Celda 26\u001b[0m line \u001b[0;36m1\n\u001b[0;32m----> <a href='vscode-notebook-cell://codespaces%2Bbug-free-space-acorn-4jjq9jjpw7rqf57w6/workspaces/ProgramacionPython202311/Modulo1/4.%20Entrada%20y%20Salida%20de%20Datos.ipynb#X31sdnNjb2RlLXJlbW90ZQ%3D%3D?line=0'>1</a>\u001b[0m peso_kg\u001b[39m=\u001b[39m(\u001b[39mfloat\u001b[39;49m(\u001b[39m\"\u001b[39;49m\u001b[39mingrese su peso\u001b[39;49m\u001b[39m\"\u001b[39;49m))\n\u001b[1;32m      <a href='vscode-notebook-cell://codespaces%2Bbug-free-space-acorn-4jjq9jjpw7rqf57w6/workspaces/ProgramacionPython202311/Modulo1/4.%20Entrada%20y%20Salida%20de%20Datos.ipynb#X31sdnNjb2RlLXJlbW90ZQ%3D%3D?line=1'>2</a>\u001b[0m estatura_metros\u001b[39m=\u001b[39m(intput(\u001b[39m\"\u001b[39m\u001b[39mingrese su estatura\u001b[39m\u001b[39m\"\u001b[39m))\n\u001b[1;32m      <a href='vscode-notebook-cell://codespaces%2Bbug-free-space-acorn-4jjq9jjpw7rqf57w6/workspaces/ProgramacionPython202311/Modulo1/4.%20Entrada%20y%20Salida%20de%20Datos.ipynb#X31sdnNjb2RlLXJlbW90ZQ%3D%3D?line=2'>3</a>\u001b[0m imc\u001b[39m=\u001b[39m peso_kg \u001b[39m/\u001b[39m (estatura_metros \u001b[39m*\u001b[39m\u001b[39m*\u001b[39m\u001b[39m2\u001b[39m)\n",
      "\u001b[0;31mValueError\u001b[0m: could not convert string to float: 'ingrese su peso'"
     ]
    }
   ],
   "source": [
    "peso_kg=(float(\"ingrese su peso\"))\n",
    "estatura_metros=float(intput(\"ingrese su estatura\"))\n",
    "imc= peso_kg / (estatura_metros **2)\n",
    "imc_redondeado = round(imc, 2)\n",
    "print(f\"Tu índice de masa corporal es {imc_redondeado}\")\n",
    "\n"
   ]
  },
  {
   "cell_type": "markdown",
   "metadata": {},
   "source": [
    "4. \n",
    "\n",
    "Escriba un programa python que solicite un texto por teclado y convierta todos los carácteres en minuscula. \n",
    "Ejemplo\n",
    "\n",
    "texto ingresado -> \"Hola AmigOs\"\n",
    "resultado -> \"hola amigos\""
   ]
  },
  {
   "cell_type": "code",
   "execution_count": null,
   "metadata": {},
   "outputs": [],
   "source": []
  }
 ],
 "metadata": {
  "kernelspec": {
   "display_name": "Python 3 (ipykernel)",
   "language": "python",
   "name": "python3"
  },
  "language_info": {
   "codemirror_mode": {
    "name": "ipython",
    "version": 3
   },
   "file_extension": ".py",
   "mimetype": "text/x-python",
   "name": "python",
   "nbconvert_exporter": "python",
   "pygments_lexer": "ipython3",
   "version": "3.10.8"
  }
 },
 "nbformat": 4,
 "nbformat_minor": 4
}
